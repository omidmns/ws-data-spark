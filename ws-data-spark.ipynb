{
 "cells": [
  {
   "cell_type": "code",
   "execution_count": 1,
   "id": "850841e3-c644-4b49-a9d1-bbb3b46136dd",
   "metadata": {},
   "outputs": [],
   "source": [
    "import os\n",
    "from math import sin, cos, radians, sqrt, asin\n",
    "from pyspark.sql.functions import broadcast\n",
    "from pyspark.sql.types import *\n",
    "from pyspark.sql.functions import udf, col\n",
    "from pyspark.sql.window import Window as w\n",
    "from pyspark.sql.functions import dense_rank\n",
    "from pyspark.sql import SparkSession"
   ]
  },
  {
   "cell_type": "code",
   "execution_count": 2,
   "id": "a3550c38-d581-46e6-a8df-7572b05aa48a",
   "metadata": {},
   "outputs": [],
   "source": [
    "def distance(lat1, lon1, lat2, lon2):\n",
    "    '''\n",
    "    returns distance based on Haversine formula\n",
    "    Note that this formula has up to 0.5% error \n",
    "    due to the Earth radius variance between Pole and Equator\n",
    "    '''\n",
    "    # The Earth Radius in Km\n",
    "    r = 6371\n",
    "    lat1, lon1, lat2, lon2 = list(map(radians, [lat1,lon1,lat2,lon2]))    \n",
    "    d = 2*r*asin(sqrt(sin((lat2-lat1)/2)**2 + cos(lat1)*cos(lat2)*sin((lon2 - lon1)/2)**2))\n",
    "    \n",
    "    return d\n",
    "\n",
    "udf_distance = udf(distance, DoubleType())"
   ]
  },
  {
   "cell_type": "code",
   "execution_count": 3,
   "id": "ff46399d-4cd7-41d5-88a8-5239d947cf68",
   "metadata": {},
   "outputs": [],
   "source": [
    "def col_trim(col:list):\n",
    "    return list(map(str.strip, col))"
   ]
  },
  {
   "cell_type": "code",
   "execution_count": 4,
   "id": "cbb3ed5a-edd5-4973-b812-908e339a2e4b",
   "metadata": {},
   "outputs": [],
   "source": [
    "spark = SparkSession.builder.master('local').getOrCreate()"
   ]
  },
  {
   "cell_type": "code",
   "execution_count": 5,
   "id": "960e171e-24de-4925-a8a0-e2e6ee0433d0",
   "metadata": {},
   "outputs": [],
   "source": [
    "df = spark.read.options(\n",
    "    header='True',\n",
    "    inferSchema='True',\n",
    "    delimiter=',',\n",
    ").csv(os.path.expanduser('DataSample.csv'))"
   ]
  },
  {
   "cell_type": "code",
   "execution_count": 6,
   "id": "2ae5d35f-c39d-413e-a719-13a85896a537",
   "metadata": {},
   "outputs": [
    {
     "name": "stdout",
     "output_type": "stream",
     "text": [
      "+-------+-----------------------+-------+--------+---------+--------+---------+\n",
      "|_ID    | TimeSt                |Country|Province|City     |Latitude|Longitude|\n",
      "+-------+-----------------------+-------+--------+---------+--------+---------+\n",
      "|4516516|2017-06-21 00:00:00.143|CA     |ON      |Waterloo |43.49347|-80.49123|\n",
      "|4516547|2017-06-21 18:00:00.193|CA     |ON      |London   |42.9399 |-81.2709 |\n",
      "|4516550|2017-06-21 15:00:00.287|CA     |ON      |Guelph   |43.5776 |-80.2201 |\n",
      "|4516600|2017-06-21 15:00:00.307|CA     |ON      |Stratford|43.3716 |-80.9773 |\n",
      "|4516613|2017-06-21 15:00:00.497|CA     |ON      |Stratford|43.3716 |-80.9773 |\n",
      "|4516693|2017-06-21 14:00:00.597|CA     |ON      |Kitchener|43.4381 |-80.5099 |\n",
      "|4516771|2017-06-21 10:00:00.873|CA     |ON      |Sarnia   |42.961  |-82.373  |\n",
      "|4516831|2017-06-21 12:00:00.950|CA     |ON      |London   |43.0091 |-81.1765 |\n",
      "|4516915|2017-06-21 15:00:01.310|CA     |ON      |London   |43.0091 |-81.1765 |\n",
      "|4516953|2017-06-21 16:00:01.700|CA     |ON      |Kitchener|43.4278 |-80.5135 |\n",
      "+-------+-----------------------+-------+--------+---------+--------+---------+\n",
      "only showing top 10 rows\n",
      "\n"
     ]
    }
   ],
   "source": [
    "df.show(10, truncate=False)"
   ]
  },
  {
   "cell_type": "code",
   "execution_count": 7,
   "id": "13ca8095-ebac-4dbe-bb96-1013fa975a60",
   "metadata": {},
   "outputs": [
    {
     "name": "stdout",
     "output_type": "stream",
     "text": [
      "root\n",
      " |-- _ID: integer (nullable = true)\n",
      " |--  TimeSt: string (nullable = true)\n",
      " |-- Country: string (nullable = true)\n",
      " |-- Province: string (nullable = true)\n",
      " |-- City: string (nullable = true)\n",
      " |-- Latitude: double (nullable = true)\n",
      " |-- Longitude: double (nullable = true)\n",
      "\n"
     ]
    }
   ],
   "source": [
    "df.printSchema()"
   ]
  },
  {
   "cell_type": "code",
   "execution_count": 8,
   "id": "fa3d7d0d-867d-4c0d-825c-0b215ea259c9",
   "metadata": {},
   "outputs": [],
   "source": [
    "# trim col names\n",
    "df = df.toDF(*col_trim(df.columns))"
   ]
  },
  {
   "cell_type": "code",
   "execution_count": 9,
   "id": "9d3a6453-352f-4a87-9fc9-fd0c4da168db",
   "metadata": {},
   "outputs": [],
   "source": [
    "df = df.dropDuplicates(['TimeSt','Latitude','Longitude'])"
   ]
  },
  {
   "cell_type": "code",
   "execution_count": 10,
   "id": "375d5d2b-9776-49d5-b6f9-f46268dd3f2a",
   "metadata": {},
   "outputs": [],
   "source": [
    "df_poi = spark.read.options(\n",
    "    header='True',\n",
    "    inferSchema='True',\n",
    "    delimiter=',',\n",
    ").csv(os.path.expanduser('POIList.csv'))"
   ]
  },
  {
   "cell_type": "code",
   "execution_count": 11,
   "id": "3d064ec9-6f05-4619-8644-bf3592a15252",
   "metadata": {},
   "outputs": [
    {
     "name": "stdout",
     "output_type": "stream",
     "text": [
      "+-----+---------+-----------+\n",
      "|POIID| Latitude|Longitude  |\n",
      "+-----+---------+-----------+\n",
      "|POI1 |53.546167|-113.485734|\n",
      "|POI2 |53.546167|-113.485734|\n",
      "|POI3 |45.521629|-73.566024 |\n",
      "|POI4 |45.22483 |-63.232729 |\n",
      "+-----+---------+-----------+\n",
      "\n"
     ]
    }
   ],
   "source": [
    "df_poi.show(10,truncate=False)"
   ]
  },
  {
   "cell_type": "code",
   "execution_count": 12,
   "id": "c6c2eda1-2345-4fdb-83ef-a1c0aca6b9b8",
   "metadata": {},
   "outputs": [
    {
     "name": "stdout",
     "output_type": "stream",
     "text": [
      "root\n",
      " |-- POIID: string (nullable = true)\n",
      " |--  Latitude: double (nullable = true)\n",
      " |-- Longitude: double (nullable = true)\n",
      "\n"
     ]
    }
   ],
   "source": [
    "df_poi.printSchema()"
   ]
  },
  {
   "cell_type": "code",
   "execution_count": 13,
   "id": "689315c6-003d-4882-9e30-83b601571f91",
   "metadata": {},
   "outputs": [],
   "source": [
    "# trim col names\n",
    "df_poi = df_poi.toDF(*col_trim(df_poi.columns))"
   ]
  },
  {
   "cell_type": "code",
   "execution_count": 14,
   "id": "d82e44ef-60e9-4804-a1c3-60aeadbc17f9",
   "metadata": {},
   "outputs": [],
   "source": [
    "# building cross join table and calculate distance for every possile pairs\n",
    "df_crossjoin = df.crossJoin(\n",
    "    broadcast(\n",
    "        df_poi.select(\n",
    "            'POIID', \n",
    "            col('Latitude').alias('POI_Lat'), \n",
    "            col('Longitude').alias('POI_Lon')\n",
    "        )\n",
    "    )\n",
    ")\\\n",
    ".withColumn(\n",
    "    'Distance',\n",
    "    udf_distance(\n",
    "        'Latitude',\n",
    "        'Longitude',\n",
    "        'POI_Lat',\n",
    "        'POI_Lon'\n",
    "    )\n",
    ")"
   ]
  },
  {
   "cell_type": "code",
   "execution_count": 15,
   "id": "11006801-6c27-456d-9dce-153ea34fad73",
   "metadata": {},
   "outputs": [],
   "source": [
    "# rank the distances for each user and pick the colsest one\n",
    "result = df_crossjoin\\\n",
    ".withColumn(\n",
    "    'distance_rank', \n",
    "    dense_rank()\\\n",
    "    .over(\n",
    "        w.partitionBy('_ID')\\\n",
    "        .orderBy(col('Distance'))\n",
    "    )\n",
    ")\\\n",
    ".filter(col('distance_rank') == 1)\\\n",
    ".drop('distance_rank')"
   ]
  },
  {
   "cell_type": "code",
   "execution_count": 16,
   "id": "f6cfa77a-b25e-4013-94c7-75e1677089e0",
   "metadata": {},
   "outputs": [
    {
     "name": "stdout",
     "output_type": "stream",
     "text": [
      "+-------+--------------------+-------+--------+---------+--------+---------+-----+---------+----------+-----------------+\n",
      "|    _ID|              TimeSt|Country|Province|     City|Latitude|Longitude|POIID|  POI_Lat|   POI_Lon|         Distance|\n",
      "+-------+--------------------+-------+--------+---------+--------+---------+-----+---------+----------+-----------------+\n",
      "|4516516|2017-06-21 00:00:...|     CA|      ON| Waterloo|43.49347|-80.49123| POI3|45.521629|-73.566024|593.4134412324522|\n",
      "|4516547|2017-06-21 18:00:...|     CA|      ON|   London| 42.9399| -81.2709| POI3|45.521629|-73.566024|677.3096549572074|\n",
      "|4516550|2017-06-21 15:00:...|     CA|      ON|   Guelph| 43.5776| -80.2201| POI3|45.521629|-73.566024|569.6477373989126|\n",
      "|4516600|2017-06-21 15:00:...|     CA|      ON|Stratford| 43.3716| -80.9773| POI3|45.521629|-73.566024|634.7339960242028|\n",
      "|4516613|2017-06-21 15:00:...|     CA|      ON|Stratford| 43.3716| -80.9773| POI3|45.521629|-73.566024|634.7339960242028|\n",
      "|4516693|2017-06-21 14:00:...|     CA|      ON|Kitchener| 43.4381| -80.5099| POI3|45.521629|-73.566024|597.3787433319694|\n",
      "|4516771|2017-06-21 10:00:...|     CA|      ON|   Sarnia|  42.961|  -82.373| POI3|45.521629|-73.566024|756.6282143405341|\n",
      "|4516831|2017-06-21 12:00:...|     CA|      ON|   London| 43.0091| -81.1765| POI3|45.521629|-73.566024|666.9416656643995|\n",
      "|4516915|2017-06-21 15:00:...|     CA|      ON|   London| 43.0091| -81.1765| POI3|45.521629|-73.566024|666.9416656643995|\n",
      "|4516953|2017-06-21 16:00:...|     CA|      ON|Kitchener| 43.4278| -80.5135| POI3|45.521629|-73.566024|598.1304004974268|\n",
      "+-------+--------------------+-------+--------+---------+--------+---------+-----+---------+----------+-----------------+\n",
      "only showing top 10 rows\n",
      "\n"
     ]
    }
   ],
   "source": [
    "result.show(10)"
   ]
  },
  {
   "cell_type": "code",
   "execution_count": null,
   "id": "25f1df6b-aa20-4f49-b8d3-26066dbd057a",
   "metadata": {},
   "outputs": [],
   "source": []
  }
 ],
 "metadata": {
  "kernelspec": {
   "display_name": "Python 3",
   "language": "python",
   "name": "python3"
  },
  "language_info": {
   "codemirror_mode": {
    "name": "ipython",
    "version": 3
   },
   "file_extension": ".py",
   "mimetype": "text/x-python",
   "name": "python",
   "nbconvert_exporter": "python",
   "pygments_lexer": "ipython3",
   "version": "3.9.4"
  }
 },
 "nbformat": 4,
 "nbformat_minor": 5
}
